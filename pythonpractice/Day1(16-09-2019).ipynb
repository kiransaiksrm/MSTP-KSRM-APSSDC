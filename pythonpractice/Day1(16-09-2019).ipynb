{
 "cells": [
  {
   "cell_type": "markdown",
   "metadata": {},
   "source": [
    "### 16-09-2019 Day objectives:\n",
    "- Anakonda installation\n",
    "- About anakonda navigator\n",
    "- Differnce between python idle and jupiter notebook\n",
    "- About jupyter notebook\n",
    "- Using jupyter notebook \n",
    "- markdown mode and code mode"
   ]
  },
  {
   "cell_type": "code",
   "execution_count": 9,
   "metadata": {},
   "outputs": [
    {
     "name": "stdout",
     "output_type": "stream",
     "text": [
      "Hi hello welcome to Mstp\n",
      "Iam from Apssdc\n"
     ]
    }
   ],
   "source": [
    "print(\"Hi hello welcome to Mstp\")\n",
    "print(\"Iam from Apssdc\")"
   ]
  },
  {
   "cell_type": "code",
   "execution_count": 8,
   "metadata": {},
   "outputs": [
    {
     "data": {
      "text/plain": [
       "10"
      ]
     },
     "execution_count": 8,
     "metadata": {},
     "output_type": "execute_result"
    }
   ],
   "source": [
    "5+5"
   ]
  },
  {
   "cell_type": "markdown",
   "metadata": {},
   "source": [
    "# It will print like a header1 tag\n",
    "## Header 2 tag\n",
    "### All this hashes working like a header tags\n",
    "#### It will work like as a h4 tag\n",
    "\n",
    "<p> Iam using paragraph tag</p>\n",
    "<p><b>paragragh tag with bold text</b></p>\n",
    "<img src=\"download.png\">\n",
    "\n",
    "## HTML list\n",
    "\n",
    "- unordered list\n",
    "   - Ul tag with li tag\n",
    "- ordered list\n",
    "   - OL tag with li tag \n",
    "   \n",
    "<a href =\"download.png\">click here</a>"
   ]
  },
  {
   "cell_type": "code",
   "execution_count": null,
   "metadata": {},
   "outputs": [],
   "source": []
  }
 ],
 "metadata": {
  "kernelspec": {
   "display_name": "Python 3",
   "language": "python",
   "name": "python3"
  },
  "language_info": {
   "codemirror_mode": {
    "name": "ipython",
    "version": 3
   },
   "file_extension": ".py",
   "mimetype": "text/x-python",
   "name": "python",
   "nbconvert_exporter": "python",
   "pygments_lexer": "ipython3",
   "version": "3.7.3"
  }
 },
 "nbformat": 4,
 "nbformat_minor": 2
}
