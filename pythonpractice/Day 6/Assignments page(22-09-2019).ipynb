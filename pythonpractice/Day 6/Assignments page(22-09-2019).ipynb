{
 "cells": [
  {
   "cell_type": "code",
   "execution_count": 2,
   "metadata": {},
   "outputs": [
    {
     "name": "stdout",
     "output_type": "stream",
     "text": [
      "arun\n",
      "kiran\n"
     ]
    }
   ],
   "source": [
    "li=['ajay','arun','kiran']\n",
    "for i in range(len(li)):\n",
    "    if(li[i].endswith('n')):\n",
    "        print(li[i])"
   ]
  },
  {
   "cell_type": "code",
   "execution_count": 1,
   "metadata": {},
   "outputs": [
    {
     "name": "stdout",
     "output_type": "stream",
     "text": [
      "ajay\n",
      "arun\n"
     ]
    }
   ],
   "source": [
    "li=['ajay','arun','kiran']\n",
    "for i in range(len(li)):\n",
    "    if(li[i].startswith('a')):\n",
    "        print(li[i])"
   ]
  },
  {
   "cell_type": "code",
   "execution_count": 5,
   "metadata": {},
   "outputs": [
    {
     "name": "stdout",
     "output_type": "stream",
     "text": [
      "enter a string:abdul anil ajay abdul sunil ajay\n",
      "2\n",
      "1\n",
      "2\n",
      "2\n",
      "1\n",
      "2\n"
     ]
    }
   ],
   "source": [
    "n=input(\"enter a string:\")\n",
    "li=list()\n",
    "li=n.split()\n",
    "for i in range(len(li)):\n",
    "    a=li.count(li[i])\n",
    "    print(a)"
   ]
  },
  {
   "cell_type": "code",
   "execution_count": 7,
   "metadata": {},
   "outputs": [
    {
     "name": "stdout",
     "output_type": "stream",
     "text": [
      "Enter astring:kiran kiran pavi pavi prabhas raja\n",
      "prabhas 1\n",
      "pavi 2\n",
      "raja 1\n",
      "kiran 2\n"
     ]
    }
   ],
   "source": [
    "names =input(\"Enter astring:\")\n",
    "names=names.split()\n",
    "for name in set(names):\n",
    "    print(name,names.count(name))"
   ]
  },
  {
   "cell_type": "code",
   "execution_count": 12,
   "metadata": {},
   "outputs": [
    {
     "name": "stdout",
     "output_type": "stream",
     "text": [
      "kiran1 10 20\n"
     ]
    },
    {
     "data": {
      "text/plain": [
       "4"
      ]
     },
     "execution_count": 12,
     "metadata": {},
     "output_type": "execute_result"
    }
   ],
   "source": [
    "s=input()\n",
    "sm=0\n",
    "for ch in s:\n",
    "    if ch.isdigit():\n",
    "        sm+=int(ch)\n",
    "sm"
   ]
  },
  {
   "cell_type": "code",
   "execution_count": 13,
   "metadata": {},
   "outputs": [
    {
     "name": "stdout",
     "output_type": "stream",
     "text": [
      "kiran1 10 20\n"
     ]
    },
    {
     "data": {
      "text/plain": [
       "30"
      ]
     },
     "execution_count": 13,
     "metadata": {},
     "output_type": "execute_result"
    }
   ],
   "source": [
    "s=input().split()\n",
    "sm=0\n",
    "for ch in s:\n",
    "    if ch.isdigit():\n",
    "        sm+=int(ch)\n",
    "sm"
   ]
  },
  {
   "cell_type": "code",
   "execution_count": 5,
   "metadata": {},
   "outputs": [
    {
     "ename": "SyntaxError",
     "evalue": "invalid syntax (<ipython-input-5-1709a35a56d1>, line 5)",
     "output_type": "error",
     "traceback": [
      "\u001b[1;36m  File \u001b[1;32m\"<ipython-input-5-1709a35a56d1>\"\u001b[1;36m, line \u001b[1;32m5\u001b[0m\n\u001b[1;33m    for i in range(n):\u001b[0m\n\u001b[1;37m                     ^\u001b[0m\n\u001b[1;31mSyntaxError\u001b[0m\u001b[1;31m:\u001b[0m invalid syntax\n"
     ]
    }
   ],
   "source": [
    "keys=list()\n",
    "values=[]\n",
    "d={}\n",
    "n=int(input(\"Enter a size of key:\")\n",
    "for i in range(n):\n",
    "      key=input(\"enter key:\")\n",
    "      keys.append(key)\n",
    "      value=input(\"Enter value:\")\n",
    "      values.append(value)\n",
    "for i in range():\n",
    "      d[keys[i]]=values[i]\n",
    "d"
   ]
  },
  {
   "cell_type": "code",
   "execution_count": 12,
   "metadata": {},
   "outputs": [
    {
     "name": "stdout",
     "output_type": "stream",
     "text": [
      "Enter a size of key:3\n",
      "enter key:name\n",
      "Enter value:kiran\n",
      "enter key:rollno\n",
      "Enter value:539\n",
      "enter key:age\n",
      "Enter value:21\n",
      "{'name': 'kiran', 'rollno': '539', 'age': '21'}\n"
     ]
    }
   ],
   "source": [
    "keys=list()\n",
    "values=[]\n",
    "d={}\n",
    "n=int(input(\"Enter a size of key:\"))\n",
    "for i in range(n):\n",
    "      key=input(\"enter key:\")\n",
    "      keys.append(key)\n",
    "      value=input(\"Enter value:\")\n",
    "      values.append(value)\n",
    "      \n",
    "for i in range(len(keys)):\n",
    "      d[keys[i]]=values[i]\n",
    "print(d)"
   ]
  },
  {
   "cell_type": "code",
   "execution_count": 8,
   "metadata": {},
   "outputs": [
    {
     "data": {
      "text/plain": [
       "{'names': ['kiran', 'surendra', 'shiva'], 'rollno': [501, 502, 503]}"
      ]
     },
     "execution_count": 8,
     "metadata": {},
     "output_type": "execute_result"
    }
   ],
   "source": [
    "stuinfo={'names':[\"kiran\",\"surendra\",\"shiva\"],'rollno':[501,502,503]}\n",
    "stuinfo"
   ]
  },
  {
   "cell_type": "code",
   "execution_count": 9,
   "metadata": {},
   "outputs": [
    {
     "data": {
      "text/plain": [
       "'surendra'"
      ]
     },
     "execution_count": 9,
     "metadata": {},
     "output_type": "execute_result"
    }
   ],
   "source": [
    "stuinfo['names'][1]"
   ]
  },
  {
   "cell_type": "code",
   "execution_count": null,
   "metadata": {},
   "outputs": [],
   "source": []
  }
 ],
 "metadata": {
  "kernelspec": {
   "display_name": "Python 3",
   "language": "python",
   "name": "python3"
  },
  "language_info": {
   "codemirror_mode": {
    "name": "ipython",
    "version": 3
   },
   "file_extension": ".py",
   "mimetype": "text/x-python",
   "name": "python",
   "nbconvert_exporter": "python",
   "pygments_lexer": "ipython3",
   "version": "3.7.3"
  }
 },
 "nbformat": 4,
 "nbformat_minor": 2
}
