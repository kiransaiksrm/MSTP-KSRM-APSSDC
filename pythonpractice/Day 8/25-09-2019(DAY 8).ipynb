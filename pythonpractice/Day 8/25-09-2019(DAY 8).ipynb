{
 "cells": [
  {
   "cell_type": "markdown",
   "metadata": {},
   "source": [
    "## Regular expressions:\n",
    "- using regular expressions for performing validations\n",
    "    - client side -------> javascript\n",
    "    - server side  \n",
    "- accessing information in particular format\n",
    "- re is a inbuilt module so import re\n",
    "- few methods in re \n",
    "     - matchh\n",
    "     - search\n",
    "     - findall"
   ]
  },
  {
   "cell_type": "code",
   "execution_count": 2,
   "metadata": {},
   "outputs": [
    {
     "data": {
      "text/plain": [
       "['A',\n",
       " 'ASCII',\n",
       " 'DEBUG',\n",
       " 'DOTALL',\n",
       " 'I',\n",
       " 'IGNORECASE',\n",
       " 'L',\n",
       " 'LOCALE',\n",
       " 'M',\n",
       " 'MULTILINE',\n",
       " 'Match',\n",
       " 'Pattern',\n",
       " 'RegexFlag',\n",
       " 'S',\n",
       " 'Scanner',\n",
       " 'T',\n",
       " 'TEMPLATE',\n",
       " 'U',\n",
       " 'UNICODE',\n",
       " 'VERBOSE',\n",
       " 'X',\n",
       " '_MAXCACHE',\n",
       " '__all__',\n",
       " '__builtins__',\n",
       " '__cached__',\n",
       " '__doc__',\n",
       " '__file__',\n",
       " '__loader__',\n",
       " '__name__',\n",
       " '__package__',\n",
       " '__spec__',\n",
       " '__version__',\n",
       " '_cache',\n",
       " '_compile',\n",
       " '_compile_repl',\n",
       " '_expand',\n",
       " '_locale',\n",
       " '_pickle',\n",
       " '_special_chars_map',\n",
       " '_subx',\n",
       " 'compile',\n",
       " 'copyreg',\n",
       " 'enum',\n",
       " 'error',\n",
       " 'escape',\n",
       " 'findall',\n",
       " 'finditer',\n",
       " 'fullmatch',\n",
       " 'functools',\n",
       " 'match',\n",
       " 'purge',\n",
       " 'search',\n",
       " 'split',\n",
       " 'sre_compile',\n",
       " 'sre_parse',\n",
       " 'sub',\n",
       " 'subn',\n",
       " 'template']"
      ]
     },
     "execution_count": 2,
     "metadata": {},
     "output_type": "execute_result"
    }
   ],
   "source": [
    "import re\n",
    "dir(re)"
   ]
  },
  {
   "cell_type": "code",
   "execution_count": 4,
   "metadata": {},
   "outputs": [],
   "source": [
    "re.match('a','kiran')"
   ]
  },
  {
   "cell_type": "code",
   "execution_count": 3,
   "metadata": {},
   "outputs": [],
   "source": [
    "import re"
   ]
  },
  {
   "cell_type": "code",
   "execution_count": 7,
   "metadata": {},
   "outputs": [
    {
     "data": {
      "text/plain": [
       "<re.Match object; span=(0, 1), match='k'>"
      ]
     },
     "execution_count": 7,
     "metadata": {},
     "output_type": "execute_result"
    }
   ],
   "source": [
    "re.match('k','kiran')"
   ]
  },
  {
   "cell_type": "code",
   "execution_count": 10,
   "metadata": {},
   "outputs": [
    {
     "data": {
      "text/plain": [
       "<re.Match object; span=(1, 2), match='a'>"
      ]
     },
     "execution_count": 10,
     "metadata": {},
     "output_type": "execute_result"
    }
   ],
   "source": [
    "re.search('a','raja')"
   ]
  },
  {
   "cell_type": "code",
   "execution_count": 12,
   "metadata": {},
   "outputs": [
    {
     "data": {
      "text/plain": [
       "['a', 'a']"
      ]
     },
     "execution_count": 12,
     "metadata": {},
     "output_type": "execute_result"
    }
   ],
   "source": [
    "re.findall('a','kirana')"
   ]
  },
  {
   "cell_type": "markdown",
   "metadata": {},
   "source": [
    "## Regular expression \n",
    "- ^ matches the begining of a line\n",
    "- $ matches the end of the line\n",
    "- . matches any character\n",
    "- \\s matches white spaces\n",
    "- \\S matches any non white space character\n",
    "- * repats a character zero ar more times\n",
    "- *? repeats a charceter zero or more times (non-greedy)\n",
    "- + repeats a character one or more times\n",
    "- +? repeats a character ane or more times (Non-greedy)\n",
    "- [aeiou] matches a single character in the listed list\n",
    "- [^XYZ] matches a single character not in the listed list\n",
    "- [a-Z 0-9] matches a single character can include a range\n",
    "- ( indicate where string exiction is not started\n",
    "- ) indicates where string extractiion is to end"
   ]
  },
  {
   "cell_type": "code",
   "execution_count": 13,
   "metadata": {},
   "outputs": [
    {
     "data": {
      "text/plain": [
       "<re.Match object; span=(0, 1), match='a'>"
      ]
     },
     "execution_count": 13,
     "metadata": {},
     "output_type": "execute_result"
    }
   ],
   "source": [
    "re.search('^a','apssdc')"
   ]
  },
  {
   "cell_type": "code",
   "execution_count": 14,
   "metadata": {},
   "outputs": [],
   "source": [
    "re.search('^a','passdc')  # ^ WORKS LIKE A STSRTSWITH() IN STRING"
   ]
  },
  {
   "cell_type": "code",
   "execution_count": 15,
   "metadata": {},
   "outputs": [
    {
     "data": {
      "text/plain": [
       "<re.Match object; span=(5, 6), match='c'>"
      ]
     },
     "execution_count": 15,
     "metadata": {},
     "output_type": "execute_result"
    }
   ],
   "source": [
    "re.search('c$','apssdc')   # $ WORKS LIKE A endSWITH() IN STRING"
   ]
  },
  {
   "cell_type": "code",
   "execution_count": 16,
   "metadata": {},
   "outputs": [],
   "source": [
    "re.search('c$','apssdc')"
   ]
  },
  {
   "cell_type": "code",
   "execution_count": 22,
   "metadata": {},
   "outputs": [
    {
     "data": {
      "text/plain": [
       "<re.Match object; span=(0, 6), match='apssdc'>"
      ]
     },
     "execution_count": 22,
     "metadata": {},
     "output_type": "execute_result"
    }
   ],
   "source": [
    "re.search('^a....c$','apssdc')"
   ]
  },
  {
   "cell_type": "code",
   "execution_count": 26,
   "metadata": {},
   "outputs": [
    {
     "data": {
      "text/plain": [
       "<re.Match object; span=(0, 6), match='a1234c'>"
      ]
     },
     "execution_count": 26,
     "metadata": {},
     "output_type": "execute_result"
    }
   ],
   "source": [
    "re.search('^a....c$','a1234c')"
   ]
  },
  {
   "cell_type": "code",
   "execution_count": 33,
   "metadata": {},
   "outputs": [
    {
     "name": "stdout",
     "output_type": "stream",
     "text": [
      "surendra\n",
      "suraj\n",
      "shankar\n"
     ]
    }
   ],
   "source": [
    "names=['kiran','surendra','suraj','ramaraju','shankar']\n",
    "for i in names:\n",
    "    if re.search('^s',i):\n",
    "        print(i)\n",
    "\n"
   ]
  },
  {
   "cell_type": "code",
   "execution_count": 32,
   "metadata": {},
   "outputs": [
    {
     "name": "stdout",
     "output_type": "stream",
     "text": [
      "surendra\n"
     ]
    }
   ],
   "source": [
    "names=['kiran','surendra','suraj','ramaraju','shankar']\n",
    "for i in names:\n",
    "    if re.search('a$',i):\n",
    "        print(i)"
   ]
  },
  {
   "cell_type": "code",
   "execution_count": 34,
   "metadata": {},
   "outputs": [
    {
     "name": "stdout",
     "output_type": "stream",
     "text": [
      "surendra\n",
      "shankara\n"
     ]
    }
   ],
   "source": [
    "# print patterns start with 's' and endswith 'a'\n",
    "names=['kiran','surendra','suraj','ramaraju','shankara']\n",
    "for i in names:\n",
    "    if re.search('^s.*a$',i):\n",
    "        print(i)"
   ]
  },
  {
   "cell_type": "code",
   "execution_count": 38,
   "metadata": {},
   "outputs": [
    {
     "name": "stdout",
     "output_type": "stream",
     "text": [
      "surendra\n",
      "shankara\n",
      "s123a\n",
      "sa\n"
     ]
    }
   ],
   "source": [
    "names=['kiran','surendra','suraj','ramaraju','shankara','s123a','sa']\n",
    "for i in names:\n",
    "    if re.search('^s.*a$',i):\n",
    "        print(i)"
   ]
  },
  {
   "cell_type": "code",
   "execution_count": 37,
   "metadata": {},
   "outputs": [
    {
     "name": "stdout",
     "output_type": "stream",
     "text": [
      "surendra\n",
      "shankara\n"
     ]
    }
   ],
   "source": [
    "names=['kiran','surendra','suraj','ramaraju','shankara','s123a','sa']\n",
    "for i in names:\n",
    "    if re.search('^s[a-z].*a$',i):\n",
    "        print(i)"
   ]
  },
  {
   "cell_type": "code",
   "execution_count": 39,
   "metadata": {},
   "outputs": [
    {
     "name": "stdout",
     "output_type": "stream",
     "text": [
      "surendra\n",
      "shankara\n"
     ]
    }
   ],
   "source": [
    "names=['kiran','surendra','suraj','ramaraju','shankara','s123a','sa']\n",
    "for i in names:\n",
    "    if re.search('^s[a-z].+a$',i):\n",
    "        print(i)"
   ]
  },
  {
   "cell_type": "code",
   "execution_count": 43,
   "metadata": {},
   "outputs": [
    {
     "name": "stdout",
     "output_type": "stream",
     "text": [
      "surendra\n",
      "shankara\n"
     ]
    }
   ],
   "source": [
    "names=['kiran','surendra','suraj','ramaraju','shankara','s123a','sa','aNIL']\n",
    "for i in names:\n",
    "    if re.search('^s[a-zA-Z]+a$',i):\n",
    "        print(i)"
   ]
  },
  {
   "cell_type": "code",
   "execution_count": 44,
   "metadata": {},
   "outputs": [
    {
     "data": {
      "text/plain": [
       "['kiran', 'surendra', 'suraj', 'ramaraju', 'shankara', 's123a', 'sa', 'aNIL']"
      ]
     },
     "execution_count": 44,
     "metadata": {},
     "output_type": "execute_result"
    }
   ],
   "source": [
    "names\n"
   ]
  },
  {
   "cell_type": "code",
   "execution_count": 52,
   "metadata": {},
   "outputs": [
    {
     "name": "stdout",
     "output_type": "stream",
     "text": [
      "surendra\n",
      "shankara\n",
      "sNIAa\n"
     ]
    }
   ],
   "source": [
    "names=['kiran','surendra','suraj','ramaraju','shankara','s123a','sa','sNIAa']\n",
    "for i in names:\n",
    "    if re.search('^s[a-zA-Z]+a$',i):\n",
    "        print(i)"
   ]
  },
  {
   "cell_type": "code",
   "execution_count": 58,
   "metadata": {},
   "outputs": [
    {
     "name": "stdout",
     "output_type": "stream",
     "text": [
      "423\n",
      "7856834\n"
     ]
    }
   ],
   "source": [
    "nums=['423','123fk','7856834','kdufugh','jdfg235']\n",
    "for i in nums:\n",
    "    if re.search('^[0-9][0-9]*[0-9]$',i):\n",
    "        print(i)"
   ]
  },
  {
   "cell_type": "code",
   "execution_count": 1,
   "metadata": {},
   "outputs": [],
   "source": [
    "import re"
   ]
  },
  {
   "cell_type": "code",
   "execution_count": 3,
   "metadata": {},
   "outputs": [
    {
     "name": "stdout",
     "output_type": "stream",
     "text": [
      "catch\n"
     ]
    }
   ],
   "source": [
    "words=['fly','try','catch','cry']\n",
    "for i in words:\n",
    "    if re.search('[aeiou]',i):\n",
    "        print(i)"
   ]
  },
  {
   "cell_type": "code",
   "execution_count": 6,
   "metadata": {},
   "outputs": [
    {
     "name": "stdout",
     "output_type": "stream",
     "text": [
      "fly\n",
      "try\n",
      "cry\n"
     ]
    }
   ],
   "source": [
    "words=['fly','try','catch','cry']\n",
    "for i in words:\n",
    "    if not re.search('[aeiou]',i):\n",
    "        print(i)"
   ]
  },
  {
   "cell_type": "code",
   "execution_count": 12,
   "metadata": {},
   "outputs": [
    {
     "name": "stdout",
     "output_type": "stream",
     "text": [
      "Enter mobile number:8500675958\n",
      "True\n"
     ]
    }
   ],
   "source": [
    "# WRITE PRATTERN TO CHECK GIVEN MOBILE NUMBER IS VALID OR NOT\n",
    "# rules for valid mobile number\n",
    "# should start with[6-9]\n",
    "# length should be 10\n",
    "# between letters from[0-9]\n",
    "\n",
    "def validnum(mbnum):\n",
    "    if re.search('^[6-9][0-9]{9}$',mbnum):\n",
    "        return True\n",
    "    return False\n",
    "num =input(\"Enter mobile number:\")\n",
    "print(validnum(num))"
   ]
  },
  {
   "cell_type": "code",
   "execution_count": 13,
   "metadata": {},
   "outputs": [
    {
     "name": "stdout",
     "output_type": "stream",
     "text": [
      "['2', '19', '42']\n"
     ]
    }
   ],
   "source": [
    "import re\n",
    "x='my 2 favorite number are 19 and 42'\n",
    "y=re.findall('[0-9]+',x)\n",
    "print(y)"
   ]
  },
  {
   "cell_type": "code",
   "execution_count": 14,
   "metadata": {},
   "outputs": [
    {
     "name": "stdout",
     "output_type": "stream",
     "text": [
      "['my', 'favorite', 'number', 'are', 'and']\n"
     ]
    }
   ],
   "source": [
    "import re\n",
    "x='my 2 favorite number are 19 and 42'\n",
    "y=re.findall('[a-zA-Z]+',x)\n",
    "print(y)"
   ]
  },
  {
   "cell_type": "code",
   "execution_count": 16,
   "metadata": {},
   "outputs": [
    {
     "name": "stdout",
     "output_type": "stream",
     "text": [
      "['From Using the:character shaik:']\n"
     ]
    }
   ],
   "source": [
    "#greddy method\n",
    "import re\n",
    "x='From Using the:character shaik:skd'\n",
    "y=re.findall('^F.+:',x)\n",
    "print(y)"
   ]
  },
  {
   "cell_type": "code",
   "execution_count": 17,
   "metadata": {},
   "outputs": [
    {
     "name": "stdout",
     "output_type": "stream",
     "text": [
      "['From Using the:']\n"
     ]
    }
   ],
   "source": [
    "# non greedy method \n",
    "import re\n",
    "x='From Using the:character shaik:skd'\n",
    "y=re.findall('^F.+?:',x)\n",
    "print(y)"
   ]
  },
  {
   "cell_type": "code",
   "execution_count": null,
   "metadata": {},
   "outputs": [],
   "source": []
  }
 ],
 "metadata": {
  "kernelspec": {
   "display_name": "Python 3",
   "language": "python",
   "name": "python3"
  },
  "language_info": {
   "codemirror_mode": {
    "name": "ipython",
    "version": 3
   },
   "file_extension": ".py",
   "mimetype": "text/x-python",
   "name": "python",
   "nbconvert_exporter": "python",
   "pygments_lexer": "ipython3",
   "version": "3.7.3"
  }
 },
 "nbformat": 4,
 "nbformat_minor": 2
}
