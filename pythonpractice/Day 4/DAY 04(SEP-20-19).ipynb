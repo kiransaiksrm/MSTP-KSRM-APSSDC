{
 "cells": [
  {
   "cell_type": "markdown",
   "metadata": {},
   "source": [
    "## Functions"
   ]
  },
  {
   "cell_type": "code",
   "execution_count": 3,
   "metadata": {},
   "outputs": [
    {
     "name": "stdout",
     "output_type": "stream",
     "text": [
      "over\n",
      "Hello\n",
      "Hai\n"
     ]
    }
   ],
   "source": [
    "def fun_name():\n",
    "     print(\"Hello\")\n",
    "     print(\"Hai\")\n",
    "print(\"over\")\n",
    "fun_name()"
   ]
  },
  {
   "cell_type": "code",
   "execution_count": 4,
   "metadata": {},
   "outputs": [
    {
     "name": "stdout",
     "output_type": "stream",
     "text": [
      "Hello\n",
      "Hai\n",
      "over\n"
     ]
    }
   ],
   "source": [
    "def fun_name():\n",
    "     print(\"Hello\")\n",
    "     print(\"Hai\")\n",
    "fun_name()\n",
    "print(\"over\")"
   ]
  },
  {
   "cell_type": "code",
   "execution_count": 5,
   "metadata": {},
   "outputs": [
    {
     "name": "stdout",
     "output_type": "stream",
     "text": [
      "without passing arguments and without return\n"
     ]
    }
   ],
   "source": [
    "# PASSING ARGUMENTS AND WITHOUT WRITTEN\n",
    "def show():\n",
    "    print(\"without passing arguments and without return\")\n",
    "show()"
   ]
  },
  {
   "cell_type": "code",
   "execution_count": 7,
   "metadata": {},
   "outputs": [
    {
     "name": "stdout",
     "output_type": "stream",
     "text": [
      "without passing arguments and return result\n"
     ]
    }
   ],
   "source": [
    "# without passing arguments and return result\n",
    "def display():\n",
    "    return \"without passing arguments and return result\"\n",
    "print(display())                                # result =display()"
   ]
  },
  {
   "cell_type": "code",
   "execution_count": 8,
   "metadata": {},
   "outputs": [
    {
     "data": {
      "text/plain": [
       "'without passing arguments and return result'"
      ]
     },
     "execution_count": 8,
     "metadata": {},
     "output_type": "execute_result"
    }
   ],
   "source": [
    "def display():\n",
    "    return \"without passing arguments and return result\"\n",
    "rs=display()\n",
    "rs"
   ]
  },
  {
   "cell_type": "code",
   "execution_count": 9,
   "metadata": {},
   "outputs": [
    {
     "name": "stdout",
     "output_type": "stream",
     "text": [
      "addition of num1 and num2 is: 20\n"
     ]
    }
   ],
   "source": [
    "# passing parameters and passing arguments without return result\n",
    "def add(num1,num2):\n",
    "    print(\"addition of num1 and num2 is:\",num1+num2)\n",
    "add(10,10)\n",
    "    "
   ]
  },
  {
   "cell_type": "code",
   "execution_count": 3,
   "metadata": {},
   "outputs": [
    {
     "name": "stdout",
     "output_type": "stream",
     "text": [
      "mul of n1 and n2 is: 20\n"
     ]
    }
   ],
   "source": [
    "# passing arguments and return result\n",
    "def mul(n1,n2):\n",
    "    return n1*n2\n",
    "print('mul of n1 and n2 is:',mul(4,5))"
   ]
  },
  {
   "cell_type": "code",
   "execution_count": 4,
   "metadata": {},
   "outputs": [
    {
     "name": "stdout",
     "output_type": "stream",
     "text": [
      "mul of n1 and n2 is: 30\n"
     ]
    }
   ],
   "source": [
    "def mul(n1,n2):\n",
    "    return n1*n2\n",
    "rs=mul(5,6)\n",
    "print('mul of n1 and n2 is:',rs)"
   ]
  },
  {
   "cell_type": "code",
   "execution_count": 7,
   "metadata": {},
   "outputs": [
    {
     "name": "stdout",
     "output_type": "stream",
     "text": [
      "enter a number:1\n",
      "enter a number:1\n",
      "add of a and b is: 2\n",
      "add of a and b is: 0\n",
      "add of a and b is: 1\n",
      "add of a and b is: 1.0\n",
      "add of a and b is: 0\n",
      "add of a and b is: 1\n",
      "add of a and b is: 1\n"
     ]
    }
   ],
   "source": [
    "a=int(input(\"enter a number:\"))\n",
    "b=int(input(\"enter a number:\"))\n",
    "def add(a1,b1):\n",
    "    return a1+b1\n",
    "def sub(a1,b1):\n",
    "    return a1-b1\n",
    "def mul(a1,b1):\n",
    "    return a1*b1\n",
    "def div(a1,b1):\n",
    "    return a1/b1\n",
    "def mod(a1,b1):\n",
    "    return a1%b1\n",
    "def exp(a1,b1):\n",
    "    return a1**b1\n",
    "def flor(a1,b1):\n",
    "    return a1//b1\n",
    "print('add of a and b is:',add(a,b))\n",
    "print('add of a and b is:',sub(a,b))\n",
    "print('add of a and b is:',mul(a,b))\n",
    "print('add of a and b is:',div(a,b))\n",
    "print('add of a and b is:',mod(a,b))\n",
    "print('add of a and b is:',exp(a,b))\n",
    "print('add of a and b is:',flor(a,b))\n",
    "  "
   ]
  },
  {
   "cell_type": "markdown",
   "metadata": {},
   "source": [
    "## in python we can use four more ways of functions\n",
    "  - defalut arguments\n",
    "  - required arguments\n",
    "  - keyword arguments\n",
    "  - variable length arguments"
   ]
  },
  {
   "cell_type": "code",
   "execution_count": 10,
   "metadata": {},
   "outputs": [
    {
     "name": "stdout",
     "output_type": "stream",
     "text": [
      "HEllo hi Apssdc Mstp\n"
     ]
    }
   ],
   "source": [
    "# example for defalut arguments\n",
    "print(\"HEllo\",end=\" \")\n",
    "print(\"hi\",end=\" \")\n",
    "print(\"Apssdc Mstp\")"
   ]
  },
  {
   "cell_type": "code",
   "execution_count": 11,
   "metadata": {},
   "outputs": [
    {
     "name": "stdout",
     "output_type": "stream",
     "text": [
      "HEllo hi###Apssdc Mstp\n"
     ]
    }
   ],
   "source": [
    "print(\"HEllo\",end=\" \")\n",
    "print(\"hi\",end=\"###\")\n",
    "print(\"Apssdc Mstp\")"
   ]
  },
  {
   "cell_type": "code",
   "execution_count": 16,
   "metadata": {},
   "outputs": [
    {
     "name": "stdout",
     "output_type": "stream",
     "text": [
      "5\n",
      "10\n",
      "15\n",
      "20\n"
     ]
    }
   ],
   "source": [
    "def add(n1=0,n2=0,n3=0,n4=0):\n",
    "    return n1+n2+n3+n4\n",
    "print(add(5))\n",
    "print(add(5,5))\n",
    "print(add(5,5,5))\n",
    "print(add(5,5,5,5))"
   ]
  },
  {
   "cell_type": "code",
   "execution_count": 17,
   "metadata": {},
   "outputs": [
    {
     "name": "stdout",
     "output_type": "stream",
     "text": [
      "5 10 15 15 20\n"
     ]
    }
   ],
   "source": [
    "def add(n1=0,n2=0,n3=0,n4=0):\n",
    "    return n1+n2+n3+n4\n",
    "print(add(5),add(5,5),add(5,5,5),add(5,5,5),add(5,5,5,5))\n"
   ]
  },
  {
   "cell_type": "markdown",
   "metadata": {},
   "source": [
    "## required arguments"
   ]
  },
  {
   "cell_type": "code",
   "execution_count": 19,
   "metadata": {},
   "outputs": [
    {
     "data": {
      "text/plain": [
       "range(0, 10)"
      ]
     },
     "execution_count": 19,
     "metadata": {},
     "output_type": "execute_result"
    }
   ],
   "source": [
    "range(10)"
   ]
  },
  {
   "cell_type": "code",
   "execution_count": 20,
   "metadata": {},
   "outputs": [
    {
     "ename": "TypeError",
     "evalue": "mul() missing 1 required positional argument: 'b'",
     "output_type": "error",
     "traceback": [
      "\u001b[1;31m---------------------------------------------------------------------------\u001b[0m",
      "\u001b[1;31mTypeError\u001b[0m                                 Traceback (most recent call last)",
      "\u001b[1;32m<ipython-input-20-12e2d87e98fe>\u001b[0m in \u001b[0;36m<module>\u001b[1;34m\u001b[0m\n\u001b[0;32m      1\u001b[0m \u001b[1;32mdef\u001b[0m \u001b[0mmul\u001b[0m\u001b[1;33m(\u001b[0m\u001b[0ma\u001b[0m\u001b[1;33m,\u001b[0m\u001b[0mb\u001b[0m\u001b[1;33m)\u001b[0m\u001b[1;33m:\u001b[0m\u001b[1;33m\u001b[0m\u001b[1;33m\u001b[0m\u001b[0m\n\u001b[0;32m      2\u001b[0m     \u001b[1;32mreturn\u001b[0m \u001b[0ma\u001b[0m\u001b[1;33m*\u001b[0m\u001b[0mb\u001b[0m\u001b[1;33m\u001b[0m\u001b[1;33m\u001b[0m\u001b[0m\n\u001b[1;32m----> 3\u001b[1;33m \u001b[0mmul\u001b[0m\u001b[1;33m(\u001b[0m\u001b[1;36m5\u001b[0m\u001b[1;33m)\u001b[0m\u001b[1;33m\u001b[0m\u001b[1;33m\u001b[0m\u001b[0m\n\u001b[0m",
      "\u001b[1;31mTypeError\u001b[0m: mul() missing 1 required positional argument: 'b'"
     ]
    }
   ],
   "source": [
    "def mul(a,b):\n",
    "    return a*b\n",
    "mul(5)"
   ]
  },
  {
   "cell_type": "markdown",
   "metadata": {},
   "source": [
    "## keyword arguments"
   ]
  },
  {
   "cell_type": "code",
   "execution_count": 25,
   "metadata": {},
   "outputs": [
    {
     "name": "stdout",
     "output_type": "stream",
     "text": [
      "4\n"
     ]
    }
   ],
   "source": [
    "# example for keywrd arguments is print(end=\",\")\n",
    "def power(base,exp=0):\n",
    "    return base**exp\n",
    "print(power(exp=2,base=2))\n",
    "\n",
    "    "
   ]
  },
  {
   "cell_type": "markdown",
   "metadata": {},
   "source": [
    "## variable length arguments"
   ]
  },
  {
   "cell_type": "code",
   "execution_count": 29,
   "metadata": {},
   "outputs": [
    {
     "name": "stdout",
     "output_type": "stream",
     "text": [
      "9 <class 'tuple'>\n",
      "sum of vals is: 126\n"
     ]
    }
   ],
   "source": [
    "def sm(*vals):\n",
    "        print(len(vals),type(vals))\n",
    "        print(\"sum of vals is:\",sum(vals))\n",
    "sm(1,2,3,4,5,6,45,21,39)"
   ]
  },
  {
   "cell_type": "code",
   "execution_count": 30,
   "metadata": {},
   "outputs": [
    {
     "name": "stdout",
     "output_type": "stream",
     "text": [
      "9 <class 'list'>\n",
      "sum of vals is: 126\n"
     ]
    }
   ],
   "source": [
    "def sm(vals):\n",
    "        print(len(vals),type(vals))\n",
    "        print(\"sum of vals is:\",sum(vals))\n",
    "sm([1,2,3,4,5,6,45,21,39])"
   ]
  },
  {
   "cell_type": "code",
   "execution_count": 32,
   "metadata": {},
   "outputs": [
    {
     "name": "stdout",
     "output_type": "stream",
     "text": [
      "9 <class 'tuple'>\n",
      "sum of vals is: 126\n"
     ]
    }
   ],
   "source": [
    "def sm(*vals):\n",
    "        print(len(vals),type(vals))\n",
    "        print(\"sum of vals is:\",sum(vals))\n",
    "sm(1,2,3,4,5,6,45,21,39)"
   ]
  },
  {
   "cell_type": "markdown",
   "metadata": {},
   "source": [
    "## conditional control statements\n",
    "- it control flow of program execution based on condition\n",
    "- 3 types\n",
    "    - conditional statements\n",
    "        - if \n",
    "        - if else\n",
    "        - else if ladder\n",
    "        - nested if else\n",
    "    - iterative statements or lopping statements\n",
    "    - jumping statement"
   ]
  },
  {
   "cell_type": "code",
   "execution_count": 34,
   "metadata": {},
   "outputs": [
    {
     "name": "stdout",
     "output_type": "stream",
     "text": [
      "true\n"
     ]
    }
   ],
   "source": [
    "if(4<5):\n",
    "    print(\"true\")\n",
    "else:\n",
    "    print(\"false\")"
   ]
  },
  {
   "cell_type": "code",
   "execution_count": null,
   "metadata": {},
   "outputs": [],
   "source": [
    "a=int(input(\"enter a value:\"))\n",
    "b=int(input(\"enter b value:\"))\n",
    "print(\"1.ADD/n2.SUB/n3.MUL/n4.DIV/n5.MOD\")\n",
    "print(\"Enter ur choice\")\n",
    "ch=int(input())\n",
    "if ch==1:\n",
    "    print(a+b)\n",
    "elif\n"
   ]
  }
 ],
 "metadata": {
  "kernelspec": {
   "display_name": "Python 3",
   "language": "python",
   "name": "python3"
  },
  "language_info": {
   "codemirror_mode": {
    "name": "ipython",
    "version": 3
   },
   "file_extension": ".py",
   "mimetype": "text/x-python",
   "name": "python",
   "nbconvert_exporter": "python",
   "pygments_lexer": "ipython3",
   "version": "3.7.3"
  }
 },
 "nbformat": 4,
 "nbformat_minor": 2
}
