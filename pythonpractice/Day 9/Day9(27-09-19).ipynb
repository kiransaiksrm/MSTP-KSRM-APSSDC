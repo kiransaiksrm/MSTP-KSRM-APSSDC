{
 "cells": [
  {
   "cell_type": "code",
   "execution_count": 1,
   "metadata": {},
   "outputs": [
    {
     "name": "stdout",
     "output_type": "stream",
     "text": [
      "1\n",
      "-5 9 8 -10 -78 -100 10\n",
      "166\n"
     ]
    }
   ],
   "source": [
    "n=int(input())\n",
    "for i in range(n):\n",
    "    sm=0\n",
    "    s=input().split()\n",
    "    for j in s:\n",
    "        sm+=int(j)*-1\n",
    "    print(sm)\n",
    "                        "
   ]
  },
  {
   "cell_type": "code",
   "execution_count": 2,
   "metadata": {},
   "outputs": [
    {
     "name": "stdout",
     "output_type": "stream",
     "text": [
      "1\n",
      "hai ioefguoue&\n",
      "ibj jpfghvpvf&\n"
     ]
    }
   ],
   "source": [
    "n=int(input())\n",
    "for i in range(n):\n",
    "    s=input()\n",
    "    string=\"\"\n",
    "    for ch in s:\n",
    "        if ch.isalpha():\n",
    "            string+=chr(ord(ch)+1)\n",
    "        else:\n",
    "            string+=ch\n",
    "    print(string)"
   ]
  },
  {
   "cell_type": "markdown",
   "metadata": {},
   "source": [
    "## Files:\n",
    "- collection of data\n",
    "- files types:\n",
    "   - .csv\n",
    "   - .html\n",
    "   - .txt\n",
    "   - .exe\n",
    "   - .pdf\n",
    "   \n",
    "## procedure to work on files:\n",
    "- need to open a file\n",
    "- based on requirement we can perform related action\n",
    "- close file\n",
    "\n",
    "## Modes on File:\n",
    "- "
   ]
  },
  {
   "cell_type": "code",
   "execution_count": 2,
   "metadata": {},
   "outputs": [
    {
     "name": "stdout",
     "output_type": "stream",
     "text": [
      "hi,\n",
      "hello kiran\n",
      "welcome to py lab\n"
     ]
    }
   ],
   "source": [
    "fh=open('mydata.txt')\n",
    "print(fh.read())"
   ]
  },
  {
   "cell_type": "code",
   "execution_count": 5,
   "metadata": {},
   "outputs": [
    {
     "name": "stdout",
     "output_type": "stream",
     "text": [
      "hi,\n",
      "hello kiran\n",
      "welcome to py lab\n"
     ]
    }
   ],
   "source": [
    "fh=open('mydata.txt')\n",
    "for line in fh:\n",
    "    print(line.rstrip())\n",
    "fh.close()"
   ]
  },
  {
   "cell_type": "code",
   "execution_count": 11,
   "metadata": {},
   "outputs": [],
   "source": [
    "fh=open('mydata1.txt','w')\n",
    "txt=\"iam from madnapalle\"\n",
    "fh.write(txt)\n",
    "fh.close()\n"
   ]
  },
  {
   "cell_type": "code",
   "execution_count": 12,
   "metadata": {},
   "outputs": [],
   "source": [
    "fh=open('mydata1.txt','a')\n",
    "txt=\"iam from Apssdc\"\n",
    "fh.write(txt)       ##here no spaces appends beside the text so beloww one overcome this probelm by concatinating the \\n with + operator\n",
    "fh.close()\n"
   ]
  },
  {
   "cell_type": "code",
   "execution_count": 13,
   "metadata": {},
   "outputs": [],
   "source": [
    "fh=open('mydata1.txt','a')\n",
    "txt=\"iam from kadpa\"\n",
    "fh.write(\"\\n\"+txt)\n",
    "fh.close()\n"
   ]
  },
  {
   "cell_type": "code",
   "execution_count": 16,
   "metadata": {},
   "outputs": [
    {
     "name": "stdout",
     "output_type": "stream",
     "text": [
      "hai \n",
      "hello \n",
      "how are u \n",
      "iam from apssdc\n"
     ]
    }
   ],
   "source": [
    "path = \"textfiles/sample.txt\"\n",
    "with open(path,'r') as fh:\n",
    "    print(fh.read())"
   ]
  },
  {
   "cell_type": "code",
   "execution_count": 19,
   "metadata": {},
   "outputs": [
    {
     "name": "stdout",
     "output_type": "stream",
     "text": [
      "\n"
     ]
    }
   ],
   "source": [
    "path = \"../kk/sp.txt\"\n",
    "with open(path,'r') as fh:\n",
    "    print(fh.read())"
   ]
  },
  {
   "cell_type": "code",
   "execution_count": 21,
   "metadata": {},
   "outputs": [
    {
     "name": "stdout",
     "output_type": "stream",
     "text": [
      "hi this is kiran\n",
      "16\n"
     ]
    }
   ],
   "source": [
    "path=\"textfiles/sample1.txt\"\n",
    "with open(path,'a') as fh:\n",
    "    txt=input()\n",
    "    print(fh.write(txt))"
   ]
  },
  {
   "cell_type": "code",
   "execution_count": 1,
   "metadata": {},
   "outputs": [
    {
     "name": "stdout",
     "output_type": "stream",
     "text": [
      "hii kiran welcome\n",
      "17\n"
     ]
    }
   ],
   "source": [
    "with open('sample1.txt','a')as fh:\n",
    "    txt=input()\n",
    "    print(fh.write(txt))"
   ]
  },
  {
   "cell_type": "code",
   "execution_count": null,
   "metadata": {},
   "outputs": [],
   "source": []
  }
 ],
 "metadata": {
  "kernelspec": {
   "display_name": "Python 3",
   "language": "python",
   "name": "python3"
  },
  "language_info": {
   "codemirror_mode": {
    "name": "ipython",
    "version": 3
   },
   "file_extension": ".py",
   "mimetype": "text/x-python",
   "name": "python",
   "nbconvert_exporter": "python",
   "pygments_lexer": "ipython3",
   "version": "3.7.3"
  }
 },
 "nbformat": 4,
 "nbformat_minor": 2
}
