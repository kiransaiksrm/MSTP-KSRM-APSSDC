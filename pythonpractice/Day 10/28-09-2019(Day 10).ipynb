{
 "cells": [
  {
   "cell_type": "markdown",
   "metadata": {},
   "source": [
    "### contact Application\n",
    "- create co"
   ]
  },
  {
   "cell_type": "code",
   "execution_count": 1,
   "metadata": {},
   "outputs": [
    {
     "name": "stdout",
     "output_type": "stream",
     "text": [
      "Enter size:2\n",
      "Enter name:kiran\n",
      "ENTER a NUMBER8500675958\n",
      "Enter name:kiransai\n",
      "ENTER a NUMBER7780724817\n"
     ]
    }
   ],
   "source": [
    "import re\n",
    "fh=open('contact.txt','a')\n",
    "n=int(input(\"Enter size:\"))\n",
    "for i in range(n):\n",
    "    nam=input(\"Enter name:\")\n",
    "    num=input(\"ENTER a NUMBER\")\n",
    "    if re.search('^[a-zA-Z][a-zA-Z]*[a-zA-Z]$',nam):\n",
    "        fh.write(\"\\n\"+nam+\" \")\n",
    "    else:\n",
    "        print(\"INVALID NUMBER OR NAME\")\n",
    "    if re.search('^[6-9][0-9]{9}$',num):\n",
    "        \n",
    "        fh.write(num)\n",
    "    else:\n",
    "        print(\"ENTER VALID NUMBER:\")\n",
    "fh.close()\n"
   ]
  },
  {
   "cell_type": "code",
   "execution_count": 1,
   "metadata": {},
   "outputs": [
    {
     "name": "stdout",
     "output_type": "stream",
     "text": [
      "Enter size:2\n",
      "Enter name:kk\n",
      "ENTER a NUMBER:8500675958\n",
      "Enter name:kkk\n",
      "ENTER a NUMBER:7780724817\n"
     ]
    }
   ],
   "source": [
    "import re\n",
    "fh=open('contact.txt','a')\n",
    "n=int(input(\"Enter size:\"))\n",
    "for i in range(n):\n",
    "    nam=input(\"Enter name:\")\n",
    "    num=input(\"ENTER a NUMBER:\")\n",
    "    if re.search('^[a-zA-Z][a-zA-Z]*[a-zA-Z]$',nam):\n",
    "        if re.search('^[6-9][0-9]{9}$',num):\n",
    "            fh.write(nam+\" \")\n",
    "            fh.write(num+\"\\n\")\n",
    "        else:\n",
    "            print(\"INVALID NUMBER\")\n",
    "    else:\n",
    "        print(\"ENTER VALID NAME\")\n",
    "fh.close()"
   ]
  },
  {
   "cell_type": "code",
   "execution_count": 7,
   "metadata": {},
   "outputs": [
    {
     "name": "stdout",
     "output_type": "stream",
     "text": [
      "kk 8500675958\n",
      "kkk 7780724817\n",
      "\n"
     ]
    }
   ],
   "source": [
    "with open('contact.txt', 'r') as f:\n",
    "    print(f.read())"
   ]
  },
  {
   "cell_type": "code",
   "execution_count": 8,
   "metadata": {},
   "outputs": [
    {
     "name": "stdout",
     "output_type": "stream",
     "text": [
      "ENTER NAME:kkk\n",
      "7780724817\n",
      "None\n"
     ]
    }
   ],
   "source": [
    "def searchcontact(name):\n",
    "    with open('contact.txt','r')as fh:\n",
    "        for line in fh:\n",
    "            line=line.split()\n",
    "            if line[0]==name:\n",
    "                print(line[1])\n",
    "name=input(\"ENTER NAME:\")\n",
    "print(searchcontact(name))\n",
    "    "
   ]
  },
  {
   "cell_type": "code",
   "execution_count": 10,
   "metadata": {},
   "outputs": [
    {
     "data": {
      "text/plain": [
       "35"
      ]
     },
     "execution_count": 10,
     "metadata": {},
     "output_type": "execute_result"
    }
   ],
   "source": [
    "import random\n",
    "random.randint(0,100)"
   ]
  },
  {
   "cell_type": "code",
   "execution_count": 37,
   "metadata": {},
   "outputs": [
    {
     "name": "stdout",
     "output_type": "stream",
     "text": [
      "FAil count 34\n",
      "None\n"
     ]
    }
   ],
   "source": [
    "import random\n",
    "def marksgen():\n",
    "        for i in range(60):\n",
    "            with open('marks.txt','a')as fh:\n",
    "                ar=random.randint(0,60)\n",
    "                fh.write(str(ar)+\"\\n\")\n",
    "                \n",
    "def marksall():\n",
    "    with open('marks.txt','r')as fh:\n",
    "        for i in fh:\n",
    "            print(i)\n",
    "def failed():\n",
    "    c=0\n",
    "    with open('marks.txt','r')as fh:\n",
    "            for i in fh:\n",
    "                if (int(i)<=35):\n",
    "                    c+=1\n",
    "    print(\"FAil count\",c)\n",
    "\n",
    "    \n",
    "            \n",
    "        \n",
    "    "
   ]
  },
  {
   "cell_type": "code",
   "execution_count": 38,
   "metadata": {},
   "outputs": [
    {
     "name": "stdout",
     "output_type": "stream",
     "text": [
      "passed count 26\n",
      "None\n"
     ]
    }
   ],
   "source": [
    "def passed():\n",
    "    c=0\n",
    "    with open('marks.txt','r')as fh:\n",
    "            for i in fh:\n",
    "                if (int(i)>=35):\n",
    "                    c+=1\n",
    "    print(\"passed count\",c)\n",
    "print(passed())"
   ]
  },
  {
   "cell_type": "code",
   "execution_count": 42,
   "metadata": {},
   "outputs": [
    {
     "name": "stdout",
     "output_type": "stream",
     "text": [
      "destintion count 0\n",
      "None\n"
     ]
    }
   ],
   "source": [
    "def destintion():\n",
    "    c=0\n",
    "    with open('marks.txt','r')as fh:\n",
    "            for i in fh:\n",
    "                if (int(i)>=85):\n",
    "                    c+=1\n",
    "    print(\"destintion count\",c)\n",
    "print(destintion())"
   ]
  },
  {
   "cell_type": "code",
   "execution_count": 43,
   "metadata": {},
   "outputs": [
    {
     "name": "stdout",
     "output_type": "stream",
     "text": [
      "FAil count 34\n",
      "None\n",
      "passed count 26\n",
      "None\n",
      "destintion count 0\n",
      "None\n"
     ]
    }
   ],
   "source": [
    "print(failed())\n",
    "print(passed())\n",
    "print(destintion())"
   ]
  },
  {
   "cell_type": "code",
   "execution_count": null,
   "metadata": {},
   "outputs": [],
   "source": []
  }
 ],
 "metadata": {
  "kernelspec": {
   "display_name": "Python 3",
   "language": "python",
   "name": "python3"
  },
  "language_info": {
   "codemirror_mode": {
    "name": "ipython",
    "version": 3
   },
   "file_extension": ".py",
   "mimetype": "text/x-python",
   "name": "python",
   "nbconvert_exporter": "python",
   "pygments_lexer": "ipython3",
   "version": "3.7.3"
  }
 },
 "nbformat": 4,
 "nbformat_minor": 2
}
